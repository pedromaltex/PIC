{
 "cells": [
  {
   "cell_type": "code",
   "execution_count": 91,
   "metadata": {},
   "outputs": [
    {
     "name": "stderr",
     "output_type": "stream",
     "text": [
      "[*********************100%***********************]  1 of 1 completed\n"
     ]
    },
    {
     "data": {
      "text/html": [
       "<div>\n",
       "<style scoped>\n",
       "    .dataframe tbody tr th:only-of-type {\n",
       "        vertical-align: middle;\n",
       "    }\n",
       "\n",
       "    .dataframe tbody tr th {\n",
       "        vertical-align: top;\n",
       "    }\n",
       "\n",
       "    .dataframe thead th {\n",
       "        text-align: right;\n",
       "    }\n",
       "</style>\n",
       "<table border=\"1\" class=\"dataframe\">\n",
       "  <thead>\n",
       "    <tr style=\"text-align: right;\">\n",
       "      <th>Price</th>\n",
       "      <th>Date</th>\n",
       "      <th>Close</th>\n",
       "      <th>High</th>\n",
       "      <th>Low</th>\n",
       "      <th>Open</th>\n",
       "      <th>Volume</th>\n",
       "    </tr>\n",
       "  </thead>\n",
       "  <tbody>\n",
       "    <tr>\n",
       "      <th>0</th>\n",
       "      <td>1980-01-02</td>\n",
       "      <td>105.760002</td>\n",
       "      <td>108.430000</td>\n",
       "      <td>105.290001</td>\n",
       "      <td>0.000000</td>\n",
       "      <td>40610000</td>\n",
       "    </tr>\n",
       "    <tr>\n",
       "      <th>1</th>\n",
       "      <td>1980-01-03</td>\n",
       "      <td>105.220001</td>\n",
       "      <td>106.080002</td>\n",
       "      <td>103.260002</td>\n",
       "      <td>0.000000</td>\n",
       "      <td>50480000</td>\n",
       "    </tr>\n",
       "    <tr>\n",
       "      <th>2</th>\n",
       "      <td>1980-01-04</td>\n",
       "      <td>106.519997</td>\n",
       "      <td>107.080002</td>\n",
       "      <td>105.089996</td>\n",
       "      <td>0.000000</td>\n",
       "      <td>39130000</td>\n",
       "    </tr>\n",
       "    <tr>\n",
       "      <th>3</th>\n",
       "      <td>1980-01-07</td>\n",
       "      <td>106.809998</td>\n",
       "      <td>107.800003</td>\n",
       "      <td>105.800003</td>\n",
       "      <td>0.000000</td>\n",
       "      <td>44500000</td>\n",
       "    </tr>\n",
       "    <tr>\n",
       "      <th>4</th>\n",
       "      <td>1980-01-08</td>\n",
       "      <td>108.949997</td>\n",
       "      <td>109.290001</td>\n",
       "      <td>106.290001</td>\n",
       "      <td>0.000000</td>\n",
       "      <td>53390000</td>\n",
       "    </tr>\n",
       "    <tr>\n",
       "      <th>...</th>\n",
       "      <td>...</td>\n",
       "      <td>...</td>\n",
       "      <td>...</td>\n",
       "      <td>...</td>\n",
       "      <td>...</td>\n",
       "      <td>...</td>\n",
       "    </tr>\n",
       "    <tr>\n",
       "      <th>11365</th>\n",
       "      <td>2025-02-03</td>\n",
       "      <td>5994.569824</td>\n",
       "      <td>6022.129883</td>\n",
       "      <td>5923.930176</td>\n",
       "      <td>5969.649902</td>\n",
       "      <td>4797210000</td>\n",
       "    </tr>\n",
       "    <tr>\n",
       "      <th>11366</th>\n",
       "      <td>2025-02-04</td>\n",
       "      <td>6037.879883</td>\n",
       "      <td>6042.479980</td>\n",
       "      <td>5990.870117</td>\n",
       "      <td>5998.140137</td>\n",
       "      <td>4410160000</td>\n",
       "    </tr>\n",
       "    <tr>\n",
       "      <th>11367</th>\n",
       "      <td>2025-02-05</td>\n",
       "      <td>6061.479980</td>\n",
       "      <td>6062.859863</td>\n",
       "      <td>6007.060059</td>\n",
       "      <td>6020.450195</td>\n",
       "      <td>4756250000</td>\n",
       "    </tr>\n",
       "    <tr>\n",
       "      <th>11368</th>\n",
       "      <td>2025-02-06</td>\n",
       "      <td>6083.569824</td>\n",
       "      <td>6084.029785</td>\n",
       "      <td>6046.830078</td>\n",
       "      <td>6072.220215</td>\n",
       "      <td>4847120000</td>\n",
       "    </tr>\n",
       "    <tr>\n",
       "      <th>11369</th>\n",
       "      <td>2025-02-07</td>\n",
       "      <td>6025.990234</td>\n",
       "      <td>6101.279785</td>\n",
       "      <td>6019.959961</td>\n",
       "      <td>6083.129883</td>\n",
       "      <td>4766900000</td>\n",
       "    </tr>\n",
       "  </tbody>\n",
       "</table>\n",
       "<p>11370 rows × 6 columns</p>\n",
       "</div>"
      ],
      "text/plain": [
       "Price       Date        Close         High          Low         Open  \\\n",
       "0     1980-01-02   105.760002   108.430000   105.290001     0.000000   \n",
       "1     1980-01-03   105.220001   106.080002   103.260002     0.000000   \n",
       "2     1980-01-04   106.519997   107.080002   105.089996     0.000000   \n",
       "3     1980-01-07   106.809998   107.800003   105.800003     0.000000   \n",
       "4     1980-01-08   108.949997   109.290001   106.290001     0.000000   \n",
       "...          ...          ...          ...          ...          ...   \n",
       "11365 2025-02-03  5994.569824  6022.129883  5923.930176  5969.649902   \n",
       "11366 2025-02-04  6037.879883  6042.479980  5990.870117  5998.140137   \n",
       "11367 2025-02-05  6061.479980  6062.859863  6007.060059  6020.450195   \n",
       "11368 2025-02-06  6083.569824  6084.029785  6046.830078  6072.220215   \n",
       "11369 2025-02-07  6025.990234  6101.279785  6019.959961  6083.129883   \n",
       "\n",
       "Price      Volume  \n",
       "0        40610000  \n",
       "1        50480000  \n",
       "2        39130000  \n",
       "3        44500000  \n",
       "4        53390000  \n",
       "...           ...  \n",
       "11365  4797210000  \n",
       "11366  4410160000  \n",
       "11367  4756250000  \n",
       "11368  4847120000  \n",
       "11369  4766900000  \n",
       "\n",
       "[11370 rows x 6 columns]"
      ]
     },
     "execution_count": 91,
     "metadata": {},
     "output_type": "execute_result"
    }
   ],
   "source": [
    "import pandas as pd \n",
    "import numpy as np \n",
    "import matplotlib.pyplot as plt \n",
    "\n",
    "import torch\n",
    "import torch.nn as nn\n",
    "\n",
    "import yfinance as yf\n",
    "\n",
    "data = yf.download(\"^GSPC\", start=\"1980-01-01\", end=\"2025-02-09\")\n",
    "data.reset_index(inplace=True)\n",
    "\n",
    "# Caso o DataFrame tenha um MultiIndex, remover os níveis extras\n",
    "if isinstance(data.columns, pd.MultiIndex):\n",
    "    data.columns = data.columns.droplevel(1)  # Remove o primeiro nível do índice\n",
    "\n",
    "#data = pd.read_csv('AMZN.csv')\n",
    "\n",
    "data"
   ]
  },
  {
   "cell_type": "code",
   "execution_count": 92,
   "metadata": {},
   "outputs": [
    {
     "data": {
      "text/html": [
       "<div>\n",
       "<style scoped>\n",
       "    .dataframe tbody tr th:only-of-type {\n",
       "        vertical-align: middle;\n",
       "    }\n",
       "\n",
       "    .dataframe tbody tr th {\n",
       "        vertical-align: top;\n",
       "    }\n",
       "\n",
       "    .dataframe thead th {\n",
       "        text-align: right;\n",
       "    }\n",
       "</style>\n",
       "<table border=\"1\" class=\"dataframe\">\n",
       "  <thead>\n",
       "    <tr style=\"text-align: right;\">\n",
       "      <th>Price</th>\n",
       "      <th>Date</th>\n",
       "      <th>Close</th>\n",
       "    </tr>\n",
       "  </thead>\n",
       "  <tbody>\n",
       "    <tr>\n",
       "      <th>0</th>\n",
       "      <td>1980-01-02</td>\n",
       "      <td>105.760002</td>\n",
       "    </tr>\n",
       "    <tr>\n",
       "      <th>1</th>\n",
       "      <td>1980-01-03</td>\n",
       "      <td>105.220001</td>\n",
       "    </tr>\n",
       "    <tr>\n",
       "      <th>2</th>\n",
       "      <td>1980-01-04</td>\n",
       "      <td>106.519997</td>\n",
       "    </tr>\n",
       "    <tr>\n",
       "      <th>3</th>\n",
       "      <td>1980-01-07</td>\n",
       "      <td>106.809998</td>\n",
       "    </tr>\n",
       "    <tr>\n",
       "      <th>4</th>\n",
       "      <td>1980-01-08</td>\n",
       "      <td>108.949997</td>\n",
       "    </tr>\n",
       "    <tr>\n",
       "      <th>...</th>\n",
       "      <td>...</td>\n",
       "      <td>...</td>\n",
       "    </tr>\n",
       "    <tr>\n",
       "      <th>11365</th>\n",
       "      <td>2025-02-03</td>\n",
       "      <td>5994.569824</td>\n",
       "    </tr>\n",
       "    <tr>\n",
       "      <th>11366</th>\n",
       "      <td>2025-02-04</td>\n",
       "      <td>6037.879883</td>\n",
       "    </tr>\n",
       "    <tr>\n",
       "      <th>11367</th>\n",
       "      <td>2025-02-05</td>\n",
       "      <td>6061.479980</td>\n",
       "    </tr>\n",
       "    <tr>\n",
       "      <th>11368</th>\n",
       "      <td>2025-02-06</td>\n",
       "      <td>6083.569824</td>\n",
       "    </tr>\n",
       "    <tr>\n",
       "      <th>11369</th>\n",
       "      <td>2025-02-07</td>\n",
       "      <td>6025.990234</td>\n",
       "    </tr>\n",
       "  </tbody>\n",
       "</table>\n",
       "<p>11370 rows × 2 columns</p>\n",
       "</div>"
      ],
      "text/plain": [
       "Price       Date        Close\n",
       "0     1980-01-02   105.760002\n",
       "1     1980-01-03   105.220001\n",
       "2     1980-01-04   106.519997\n",
       "3     1980-01-07   106.809998\n",
       "4     1980-01-08   108.949997\n",
       "...          ...          ...\n",
       "11365 2025-02-03  5994.569824\n",
       "11366 2025-02-04  6037.879883\n",
       "11367 2025-02-05  6061.479980\n",
       "11368 2025-02-06  6083.569824\n",
       "11369 2025-02-07  6025.990234\n",
       "\n",
       "[11370 rows x 2 columns]"
      ]
     },
     "execution_count": 92,
     "metadata": {},
     "output_type": "execute_result"
    }
   ],
   "source": [
    "data = data[['Date', 'Close']]\n",
    "data"
   ]
  },
  {
   "cell_type": "code",
   "execution_count": 93,
   "metadata": {},
   "outputs": [
    {
     "data": {
      "text/plain": [
       "'cpu'"
      ]
     },
     "execution_count": 93,
     "metadata": {},
     "output_type": "execute_result"
    }
   ],
   "source": [
    "device = 'cuda:0' if torch.cuda.is_available() else 'cpu' #Diz para usar GPU caso exista, se não existir, cpu\n",
    "device"
   ]
  },
  {
   "cell_type": "code",
   "execution_count": 94,
   "metadata": {},
   "outputs": [
    {
     "name": "stderr",
     "output_type": "stream",
     "text": [
      "/tmp/ipykernel_19028/1819287010.py:1: SettingWithCopyWarning: \n",
      "A value is trying to be set on a copy of a slice from a DataFrame.\n",
      "Try using .loc[row_indexer,col_indexer] = value instead\n",
      "\n",
      "See the caveats in the documentation: https://pandas.pydata.org/pandas-docs/stable/user_guide/indexing.html#returning-a-view-versus-a-copy\n",
      "  data['Date'] = pd.to_datetime(data['Date'])\n"
     ]
    },
    {
     "data": {
      "text/plain": [
       "[<matplotlib.lines.Line2D at 0x77d100aea9f0>]"
      ]
     },
     "execution_count": 94,
     "metadata": {},
     "output_type": "execute_result"
    },
    {
     "data": {
      "image/png": "[encoded data removed]",
      "text/plain": [
       "<Figure size 640x480 with 1 Axes>"
      ]
     },
     "metadata": {},
     "output_type": "display_data"
    }
   ],
   "source": [
    "data['Date'] = pd.to_datetime(data['Date'])\n",
    "\n",
    "plt.plot(data['Date'], data['Close'])"
   ]
  },
  {
   "cell_type": "code",
   "execution_count": 95,
   "metadata": {},
   "outputs": [
    {
     "data": {
      "text/html": [
       "<div>\n",
       "<style scoped>\n",
       "    .dataframe tbody tr th:only-of-type {\n",
       "        vertical-align: middle;\n",
       "    }\n",
       "\n",
       "    .dataframe tbody tr th {\n",
       "        vertical-align: top;\n",
       "    }\n",
       "\n",
       "    .dataframe thead th {\n",
       "        text-align: right;\n",
       "    }\n",
       "</style>\n",
       "<table border=\"1\" class=\"dataframe\">\n",
       "  <thead>\n",
       "    <tr style=\"text-align: right;\">\n",
       "      <th>Price</th>\n",
       "      <th>Close</th>\n",
       "      <th>Close(t-1)</th>\n",
       "      <th>Close(t-2)</th>\n",
       "      <th>Close(t-3)</th>\n",
       "      <th>Close(t-4)</th>\n",
       "      <th>Close(t-5)</th>\n",
       "      <th>Close(t-6)</th>\n",
       "      <th>Close(t-7)</th>\n",
       "    </tr>\n",
       "    <tr>\n",
       "      <th>Date</th>\n",
       "      <th></th>\n",
       "      <th></th>\n",
       "      <th></th>\n",
       "      <th></th>\n",
       "      <th></th>\n",
       "      <th></th>\n",
       "      <th></th>\n",
       "      <th></th>\n",
       "    </tr>\n",
       "  </thead>\n",
       "  <tbody>\n",
       "    <tr>\n",
       "      <th>1980-01-11</th>\n",
       "      <td>109.919998</td>\n",
       "      <td>109.889999</td>\n",
       "      <td>109.050003</td>\n",
       "      <td>108.949997</td>\n",
       "      <td>106.809998</td>\n",
       "      <td>106.519997</td>\n",
       "      <td>105.220001</td>\n",
       "      <td>105.760002</td>\n",
       "    </tr>\n",
       "    <tr>\n",
       "      <th>1980-01-14</th>\n",
       "      <td>110.379997</td>\n",
       "      <td>109.919998</td>\n",
       "      <td>109.889999</td>\n",
       "      <td>109.050003</td>\n",
       "      <td>108.949997</td>\n",
       "      <td>106.809998</td>\n",
       "      <td>106.519997</td>\n",
       "      <td>105.220001</td>\n",
       "    </tr>\n",
       "    <tr>\n",
       "      <th>1980-01-15</th>\n",
       "      <td>111.139999</td>\n",
       "      <td>110.379997</td>\n",
       "      <td>109.919998</td>\n",
       "      <td>109.889999</td>\n",
       "      <td>109.050003</td>\n",
       "      <td>108.949997</td>\n",
       "      <td>106.809998</td>\n",
       "      <td>106.519997</td>\n",
       "    </tr>\n",
       "    <tr>\n",
       "      <th>1980-01-16</th>\n",
       "      <td>111.050003</td>\n",
       "      <td>111.139999</td>\n",
       "      <td>110.379997</td>\n",
       "      <td>109.919998</td>\n",
       "      <td>109.889999</td>\n",
       "      <td>109.050003</td>\n",
       "      <td>108.949997</td>\n",
       "      <td>106.809998</td>\n",
       "    </tr>\n",
       "    <tr>\n",
       "      <th>1980-01-17</th>\n",
       "      <td>110.699997</td>\n",
       "      <td>111.050003</td>\n",
       "      <td>111.139999</td>\n",
       "      <td>110.379997</td>\n",
       "      <td>109.919998</td>\n",
       "      <td>109.889999</td>\n",
       "      <td>109.050003</td>\n",
       "      <td>108.949997</td>\n",
       "    </tr>\n",
       "    <tr>\n",
       "      <th>...</th>\n",
       "      <td>...</td>\n",
       "      <td>...</td>\n",
       "      <td>...</td>\n",
       "      <td>...</td>\n",
       "      <td>...</td>\n",
       "      <td>...</td>\n",
       "      <td>...</td>\n",
       "      <td>...</td>\n",
       "    </tr>\n",
       "    <tr>\n",
       "      <th>2025-02-03</th>\n",
       "      <td>5994.569824</td>\n",
       "      <td>6040.529785</td>\n",
       "      <td>6071.169922</td>\n",
       "      <td>6039.310059</td>\n",
       "      <td>6067.700195</td>\n",
       "      <td>6012.279785</td>\n",
       "      <td>6101.240234</td>\n",
       "      <td>6118.709961</td>\n",
       "    </tr>\n",
       "    <tr>\n",
       "      <th>2025-02-04</th>\n",
       "      <td>6037.879883</td>\n",
       "      <td>5994.569824</td>\n",
       "      <td>6040.529785</td>\n",
       "      <td>6071.169922</td>\n",
       "      <td>6039.310059</td>\n",
       "      <td>6067.700195</td>\n",
       "      <td>6012.279785</td>\n",
       "      <td>6101.240234</td>\n",
       "    </tr>\n",
       "    <tr>\n",
       "      <th>2025-02-05</th>\n",
       "      <td>6061.479980</td>\n",
       "      <td>6037.879883</td>\n",
       "      <td>5994.569824</td>\n",
       "      <td>6040.529785</td>\n",
       "      <td>6071.169922</td>\n",
       "      <td>6039.310059</td>\n",
       "      <td>6067.700195</td>\n",
       "      <td>6012.279785</td>\n",
       "    </tr>\n",
       "    <tr>\n",
       "      <th>2025-02-06</th>\n",
       "      <td>6083.569824</td>\n",
       "      <td>6061.479980</td>\n",
       "      <td>6037.879883</td>\n",
       "      <td>5994.569824</td>\n",
       "      <td>6040.529785</td>\n",
       "      <td>6071.169922</td>\n",
       "      <td>6039.310059</td>\n",
       "      <td>6067.700195</td>\n",
       "    </tr>\n",
       "    <tr>\n",
       "      <th>2025-02-07</th>\n",
       "      <td>6025.990234</td>\n",
       "      <td>6083.569824</td>\n",
       "      <td>6061.479980</td>\n",
       "      <td>6037.879883</td>\n",
       "      <td>5994.569824</td>\n",
       "      <td>6040.529785</td>\n",
       "      <td>6071.169922</td>\n",
       "      <td>6039.310059</td>\n",
       "    </tr>\n",
       "  </tbody>\n",
       "</table>\n",
       "<p>11363 rows × 8 columns</p>\n",
       "</div>"
      ],
      "text/plain": [
       "Price             Close   Close(t-1)   Close(t-2)   Close(t-3)   Close(t-4)  \\\n",
       "Date                                                                          \n",
       "1980-01-11   109.919998   109.889999   109.050003   108.949997   106.809998   \n",
       "1980-01-14   110.379997   109.919998   109.889999   109.050003   108.949997   \n",
       "1980-01-15   111.139999   110.379997   109.919998   109.889999   109.050003   \n",
       "1980-01-16   111.050003   111.139999   110.379997   109.919998   109.889999   \n",
       "1980-01-17   110.699997   111.050003   111.139999   110.379997   109.919998   \n",
       "...                 ...          ...          ...          ...          ...   \n",
       "2025-02-03  5994.569824  6040.529785  6071.169922  6039.310059  6067.700195   \n",
       "2025-02-04  6037.879883  5994.569824  6040.529785  6071.169922  6039.310059   \n",
       "2025-02-05  6061.479980  6037.879883  5994.569824  6040.529785  6071.169922   \n",
       "2025-02-06  6083.569824  6061.479980  6037.879883  5994.569824  6040.529785   \n",
       "2025-02-07  6025.990234  6083.569824  6061.479980  6037.879883  5994.569824   \n",
       "\n",
       "Price        Close(t-5)   Close(t-6)   Close(t-7)  \n",
       "Date                                               \n",
       "1980-01-11   106.519997   105.220001   105.760002  \n",
       "1980-01-14   106.809998   106.519997   105.220001  \n",
       "1980-01-15   108.949997   106.809998   106.519997  \n",
       "1980-01-16   109.050003   108.949997   106.809998  \n",
       "1980-01-17   109.889999   109.050003   108.949997  \n",
       "...                 ...          ...          ...  \n",
       "2025-02-03  6012.279785  6101.240234  6118.709961  \n",
       "2025-02-04  6067.700195  6012.279785  6101.240234  \n",
       "2025-02-05  6039.310059  6067.700195  6012.279785  \n",
       "2025-02-06  6071.169922  6039.310059  6067.700195  \n",
       "2025-02-07  6040.529785  6071.169922  6039.310059  \n",
       "\n",
       "[11363 rows x 8 columns]"
      ]
     },
     "execution_count": 95,
     "metadata": {},
     "output_type": "execute_result"
    }
   ],
   "source": [
    "from copy import deepcopy as dc \n",
    "\n",
    "def prepare_dataframe_for_lstm(df, n_steps):\n",
    "    df = dc(df)\n",
    "\n",
    "    df.set_index('Date', inplace=True)\n",
    "\n",
    "    for i in range(1, n_steps+1):\n",
    "        df[f'Close(t-{i})'] = df['Close'].shift(i)\n",
    "    \n",
    "    df.dropna(inplace=True)\n",
    "\n",
    "    return df\n",
    "\n",
    "lookback = 7\n",
    "shifted_df = prepare_dataframe_for_lstm(data, lookback)\n",
    "shifted_df"
   ]
  },
  {
   "cell_type": "code",
   "execution_count": 96,
   "metadata": {},
   "outputs": [
    {
     "data": {
      "text/plain": [
       "array([[ 109.91999817,  109.88999939,  109.05000305, ...,  106.51999664,\n",
       "         105.22000122,  105.76000214],\n",
       "       [ 110.37999725,  109.91999817,  109.88999939, ...,  106.80999756,\n",
       "         106.51999664,  105.22000122],\n",
       "       [ 111.13999939,  110.37999725,  109.91999817, ...,  108.94999695,\n",
       "         106.80999756,  106.51999664],\n",
       "       ...,\n",
       "       [6061.47998047, 6037.87988281, 5994.56982422, ..., 6039.31005859,\n",
       "        6067.70019531, 6012.27978516],\n",
       "       [6083.56982422, 6061.47998047, 6037.87988281, ..., 6071.16992188,\n",
       "        6039.31005859, 6067.70019531],\n",
       "       [6025.99023438, 6083.56982422, 6061.47998047, ..., 6040.52978516,\n",
       "        6071.16992188, 6039.31005859]])"
      ]
     },
     "execution_count": 96,
     "metadata": {},
     "output_type": "execute_result"
    }
   ],
   "source": [
    "shifted_df_as_np = shifted_df.to_numpy()\n",
    "\n",
    "shifted_df_as_np"
   ]
  },
  {
   "cell_type": "code",
   "execution_count": 97,
   "metadata": {},
   "outputs": [
    {
     "data": {
      "text/plain": [
       "array([[-0.99611327, -0.99612324, -0.99640229, ..., -0.99724275,\n",
       "        -0.99767461, -0.99749522],\n",
       "       [-0.99596046, -0.99611327, -0.99612324, ..., -0.99714641,\n",
       "        -0.99724275, -0.99767461],\n",
       "       [-0.99570799, -0.99596046, -0.99611327, ..., -0.99643551,\n",
       "        -0.99714641, -0.99724275],\n",
       "       ...,\n",
       "       [ 0.98098826,  0.97314834,  0.95876079, ...,  0.97362344,\n",
       "         0.98305461,  0.96464402],\n",
       "       [ 0.98832649,  0.98098826,  0.97314834, ...,  0.98420725,\n",
       "         0.97362344,  0.98305461],\n",
       "       [ 0.96919861,  0.98832649,  0.98098826, ...,  0.97402863,\n",
       "         0.98420725,  0.97362344]])"
      ]
     },
     "execution_count": 97,
     "metadata": {},
     "output_type": "execute_result"
    }
   ],
   "source": [
    "from sklearn.preprocessing import MinMaxScaler\n",
    "\n",
    "scaler = MinMaxScaler(feature_range=(-1, 1))\n",
    "shifted_df_as_np = scaler.fit_transform(shifted_df_as_np)\n",
    "\n",
    "shifted_df_as_np"
   ]
  },
  {
   "cell_type": "code",
   "execution_count": 98,
   "metadata": {},
   "outputs": [
    {
     "data": {
      "text/plain": [
       "((11363, 7), (11363,))"
      ]
     },
     "execution_count": 98,
     "metadata": {},
     "output_type": "execute_result"
    }
   ],
   "source": [
    "x = shifted_df_as_np[:, 1:]\n",
    "y = shifted_df_as_np[:, 0]\n",
    "\n",
    "x.shape, y.shape"
   ]
  },
  {
   "cell_type": "code",
   "execution_count": 99,
   "metadata": {},
   "outputs": [
    {
     "data": {
      "text/plain": [
       "array([[-0.99749522, -0.99767461, -0.99724275, ..., -0.99643551,\n",
       "        -0.99640229, -0.99612324],\n",
       "       [-0.99767461, -0.99724275, -0.99714641, ..., -0.99640229,\n",
       "        -0.99612324, -0.99611327],\n",
       "       [-0.99724275, -0.99714641, -0.99643551, ..., -0.99612324,\n",
       "        -0.99611327, -0.99596046],\n",
       "       ...,\n",
       "       [ 0.96464402,  0.98305461,  0.97362344, ...,  0.97402863,\n",
       "         0.95876079,  0.97314834],\n",
       "       [ 0.98305461,  0.97362344,  0.98420725, ...,  0.95876079,\n",
       "         0.97314834,  0.98098826],\n",
       "       [ 0.97362344,  0.98420725,  0.97402863, ...,  0.97314834,\n",
       "         0.98098826,  0.98832649]])"
      ]
     },
     "execution_count": 99,
     "metadata": {},
     "output_type": "execute_result"
    }
   ],
   "source": [
    "x = dc(np.flip(x, axis=1))\n",
    "x"
   ]
  },
  {
   "cell_type": "code",
   "execution_count": 100,
   "metadata": {},
   "outputs": [
    {
     "data": {
      "text/plain": [
       "10794"
      ]
     },
     "execution_count": 100,
     "metadata": {},
     "output_type": "execute_result"
    }
   ],
   "source": [
    "split_index = int(len(x) * 0.95)\n",
    "split_index"
   ]
  },
  {
   "cell_type": "code",
   "execution_count": 101,
   "metadata": {},
   "outputs": [
    {
     "data": {
      "text/plain": [
       "((10794, 7), (569, 7), (10794,), (569,))"
      ]
     },
     "execution_count": 101,
     "metadata": {},
     "output_type": "execute_result"
    }
   ],
   "source": [
    "x_train = x[:split_index]\n",
    "x_test = x[split_index:]\n",
    "\n",
    "y_train =y[:split_index]\n",
    "y_test = y[split_index:]\n",
    "\n",
    "x_train.shape, x_test.shape, y_train.shape, y_test.shape"
   ]
  },
  {
   "cell_type": "code",
   "execution_count": 102,
   "metadata": {},
   "outputs": [
    {
     "data": {
      "text/plain": [
       "((10794, 7, 1), (569, 7, 1), (10794, 1), (569, 1))"
      ]
     },
     "execution_count": 102,
     "metadata": {},
     "output_type": "execute_result"
    }
   ],
   "source": [
    "x_train = x_train.reshape((-1, lookback, 1))\n",
    "x_test = x_test.reshape((-1, lookback, 1))\n",
    "\n",
    "y_train = y_train.reshape((-1, 1))\n",
    "y_test = y_test.reshape((-1, 1))\n",
    "\n",
    "x_train.shape, x_test.shape, y_train.shape, y_test.shape"
   ]
  },
  {
   "cell_type": "code",
   "execution_count": 103,
   "metadata": {},
   "outputs": [
    {
     "data": {
      "text/plain": [
       "(torch.Size([10794, 7, 1]),\n",
       " torch.Size([569, 7, 1]),\n",
       " torch.Size([10794, 1]),\n",
       " torch.Size([569, 1]))"
      ]
     },
     "execution_count": 103,
     "metadata": {},
     "output_type": "execute_result"
    }
   ],
   "source": [
    "x_train = torch.tensor(x_train).float()\n",
    "y_train = torch.tensor(y_train).float()\n",
    "\n",
    "x_test = torch.tensor(x_test).float()\n",
    "y_test = torch.tensor(y_test).float()\n",
    "\n",
    "x_train.shape, x_test.shape, y_train.shape, y_test.shape"
   ]
  },
  {
   "cell_type": "code",
   "execution_count": 104,
   "metadata": {},
   "outputs": [],
   "source": [
    "from torch.utils.data import Dataset\n",
    "\n",
    "class TimeSeriesDataset(Dataset):\n",
    "    def __init__(self, x, y):\n",
    "        self.x = x\n",
    "        self.y = y\n",
    "    \n",
    "    def __len__(self):\n",
    "        return len(self.x)\n",
    "    \n",
    "    def __getitem__(self, i):\n",
    "        return self.x[i], self.y[i]\n",
    "\n",
    "train_dataset = TimeSeriesDataset(x_train, y_train)\n",
    "test_dataset = TimeSeriesDataset(x_test, y_test)"
   ]
  },
  {
   "cell_type": "code",
   "execution_count": 105,
   "metadata": {},
   "outputs": [],
   "source": [
    "from torch.utils.data import DataLoader\n",
    "\n",
    "batch_size = 16\n",
    "train_loader = DataLoader(train_dataset, batch_size=batch_size, shuffle=True)\n",
    "test_loader = DataLoader(test_dataset, batch_size=batch_size, shuffle=False)"
   ]
  },
  {
   "cell_type": "code",
   "execution_count": 106,
   "metadata": {},
   "outputs": [
    {
     "name": "stdout",
     "output_type": "stream",
     "text": [
      "torch.Size([16, 7, 1]) torch.Size([16, 1])\n"
     ]
    }
   ],
   "source": [
    "for _, batch in enumerate(train_loader):\n",
    "    x_batch, y_batch = batch[0].to(device), batch[1].to(device)\n",
    "    print(x_batch.shape, y_batch.shape)\n",
    "    break"
   ]
  },
  {
   "cell_type": "code",
   "execution_count": 107,
   "metadata": {},
   "outputs": [
    {
     "data": {
      "text/plain": [
       "LSTM(\n",
       "  (lstm): LSTM(1, 4, batch_first=True)\n",
       "  (fc): Linear(in_features=4, out_features=1, bias=True)\n",
       ")"
      ]
     },
     "execution_count": 107,
     "metadata": {},
     "output_type": "execute_result"
    }
   ],
   "source": [
    "class LSTM(nn.Module):\n",
    "    def __init__(self, input_size, hidden_size, num_stacked_layers):\n",
    "        super().__init__()\n",
    "        self.hidden_size = hidden_size\n",
    "        self.num_stacked_layers = num_stacked_layers\n",
    "\n",
    "        self.lstm = nn.LSTM(input_size, hidden_size, num_stacked_layers,\n",
    "                            batch_first=True)\n",
    "\n",
    "        self.fc = nn.Linear(hidden_size, 1)\n",
    "\n",
    "    def forward(self, x):\n",
    "        batch_size = x.size(0)\n",
    "        h0 = torch.zeros(self.num_stacked_layers, batch_size, self.hidden_size).to(device)\n",
    "        c0 = torch.zeros(self.num_stacked_layers, batch_size, self.hidden_size).to(device)\n",
    "\n",
    "        out, _ = self.lstm(x, (h0, c0))\n",
    "        out = self.fc(out[:, -1, :])\n",
    "        return out\n",
    "\n",
    "model = LSTM(1, 4, 1)\n",
    "model.to(device)\n",
    "model"
   ]
  },
  {
   "cell_type": "code",
   "execution_count": 108,
   "metadata": {},
   "outputs": [],
   "source": [
    "def train_one_epoch():\n",
    "    model.train(True)\n",
    "    print(f'Epoch: {epoch + 1}')\n",
    "    running_loss = 0.0\n",
    "\n",
    "    for batch_index, batch in enumerate(train_loader):\n",
    "        x_batch, y_batch = batch[0].to(device), batch[1].to(device)\n",
    "\n",
    "        output = model(x_batch)\n",
    "        loss = loss_function(output, y_batch)\n",
    "        running_loss += loss.item()\n",
    "\n",
    "        optimizer.zero_grad()\n",
    "        loss.backward()\n",
    "        optimizer.step()\n",
    "\n",
    "        if batch_index % 100 == 99:  # print every 100 batches\n",
    "            avg_loss_across_batches = running_loss / 100\n",
    "            print('Batch {0}, Loss: {1:.3f}'.format(batch_index+1,\n",
    "                                                    avg_loss_across_batches))\n",
    "            running_loss = 0.0\n",
    "    print()"
   ]
  },
  {
   "cell_type": "code",
   "execution_count": 109,
   "metadata": {},
   "outputs": [],
   "source": [
    "def validate_one_epoch():\n",
    "    model.train(False)\n",
    "    running_loss = 0.0\n",
    "\n",
    "    for batch_index, batch in enumerate(test_loader):\n",
    "        x_batch, y_batch = batch[0].to(device), batch[1].to(device)\n",
    "\n",
    "        with torch.no_grad():\n",
    "            output = model(x_batch)\n",
    "            loss = loss_function(output, y_batch)\n",
    "            running_loss += loss.item()\n",
    "\n",
    "    avg_loss_across_batches = running_loss / len(test_loader)\n",
    "\n",
    "    print('Val Loss: {0:.3f}'.format(avg_loss_across_batches))\n",
    "    print('***************************************************')\n",
    "    print()"
   ]
  },
  {
   "cell_type": "code",
   "execution_count": 110,
   "metadata": {},
   "outputs": [
    {
     "name": "stdout",
     "output_type": "stream",
     "text": [
      "Epoch: 1\n",
      "Batch 100, Loss: 1.258\n",
      "Batch 200, Loss: 0.716\n",
      "Batch 300, Loss: 0.400\n",
      "Batch 400, Loss: 0.205\n",
      "Batch 500, Loss: 0.078\n",
      "Batch 600, Loss: 0.022\n",
      "\n",
      "Val Loss: 0.101\n",
      "***************************************************\n",
      "\n",
      "Epoch: 2\n",
      "Batch 100, Loss: 0.003\n",
      "Batch 200, Loss: 0.002\n",
      "Batch 300, Loss: 0.002\n",
      "Batch 400, Loss: 0.001\n",
      "Batch 500, Loss: 0.001\n",
      "Batch 600, Loss: 0.001\n",
      "\n",
      "Val Loss: 0.094\n",
      "***************************************************\n",
      "\n",
      "Epoch: 3\n",
      "Batch 100, Loss: 0.001\n",
      "Batch 200, Loss: 0.001\n",
      "Batch 300, Loss: 0.001\n",
      "Batch 400, Loss: 0.001\n",
      "Batch 500, Loss: 0.001\n",
      "Batch 600, Loss: 0.000\n",
      "\n",
      "Val Loss: 0.067\n",
      "***************************************************\n",
      "\n",
      "Epoch: 4\n",
      "Batch 100, Loss: 0.000\n",
      "Batch 200, Loss: 0.000\n",
      "Batch 300, Loss: 0.000\n",
      "Batch 400, Loss: 0.000\n",
      "Batch 500, Loss: 0.000\n",
      "Batch 600, Loss: 0.000\n",
      "\n",
      "Val Loss: 0.052\n",
      "***************************************************\n",
      "\n",
      "Epoch: 5\n",
      "Batch 100, Loss: 0.000\n",
      "Batch 200, Loss: 0.000\n",
      "Batch 300, Loss: 0.000\n",
      "Batch 400, Loss: 0.000\n",
      "Batch 500, Loss: 0.000\n",
      "Batch 600, Loss: 0.000\n",
      "\n",
      "Val Loss: 0.044\n",
      "***************************************************\n",
      "\n",
      "Epoch: 6\n",
      "Batch 100, Loss: 0.000\n",
      "Batch 200, Loss: 0.000\n",
      "Batch 300, Loss: 0.000\n",
      "Batch 400, Loss: 0.000\n",
      "Batch 500, Loss: 0.000\n",
      "Batch 600, Loss: 0.000\n",
      "\n",
      "Val Loss: 0.040\n",
      "***************************************************\n",
      "\n",
      "Epoch: 7\n",
      "Batch 100, Loss: 0.000\n",
      "Batch 200, Loss: 0.000\n",
      "Batch 300, Loss: 0.000\n",
      "Batch 400, Loss: 0.000\n",
      "Batch 500, Loss: 0.000\n",
      "Batch 600, Loss: 0.000\n",
      "\n",
      "Val Loss: 0.035\n",
      "***************************************************\n",
      "\n",
      "Epoch: 8\n",
      "Batch 100, Loss: 0.000\n",
      "Batch 200, Loss: 0.000\n",
      "Batch 300, Loss: 0.000\n",
      "Batch 400, Loss: 0.000\n",
      "Batch 500, Loss: 0.000\n",
      "Batch 600, Loss: 0.000\n",
      "\n",
      "Val Loss: 0.032\n",
      "***************************************************\n",
      "\n",
      "Epoch: 9\n",
      "Batch 100, Loss: 0.000\n",
      "Batch 200, Loss: 0.000\n",
      "Batch 300, Loss: 0.000\n",
      "Batch 400, Loss: 0.000\n",
      "Batch 500, Loss: 0.000\n",
      "Batch 600, Loss: 0.000\n",
      "\n",
      "Val Loss: 0.028\n",
      "***************************************************\n",
      "\n",
      "Epoch: 10\n",
      "Batch 100, Loss: 0.000\n",
      "Batch 200, Loss: 0.000\n",
      "Batch 300, Loss: 0.000\n",
      "Batch 400, Loss: 0.000\n",
      "Batch 500, Loss: 0.000\n",
      "Batch 600, Loss: 0.000\n",
      "\n",
      "Val Loss: 0.025\n",
      "***************************************************\n",
      "\n"
     ]
    }
   ],
   "source": [
    "learning_rate = 0.001\n",
    "num_epochs = 10\n",
    "loss_function = nn.MSELoss()\n",
    "optimizer = torch.optim.Adam(model.parameters(), lr=learning_rate)\n",
    "\n",
    "for epoch in range(num_epochs):\n",
    "    train_one_epoch()\n",
    "    validate_one_epoch()"
   ]
  },
  {
   "cell_type": "code",
   "execution_count": 111,
   "metadata": {},
   "outputs": [
    {
     "data": {
      "image/png": "[encoded data removed]",
      "text/plain": [
       "<Figure size 640x480 with 1 Axes>"
      ]
     },
     "metadata": {},
     "output_type": "display_data"
    }
   ],
   "source": [
    "with torch.no_grad():\n",
    "    predicted = model(x_train.to(device)).to('cpu').numpy()\n",
    "\n",
    "plt.plot(y_train, label='Actual Close')\n",
    "plt.plot(predicted, label='Predicted Close')\n",
    "plt.xlabel('Day')\n",
    "plt.ylabel('Close')\n",
    "plt.legend()\n",
    "plt.show()"
   ]
  },
  {
   "cell_type": "code",
   "execution_count": 112,
   "metadata": {},
   "outputs": [
    {
     "data": {
      "text/plain": [
       "array([ 126.88218119,  127.31890062,  127.68636217, ..., 3828.5991352 ,\n",
       "       3835.04864154, 3868.2371206 ])"
      ]
     },
     "execution_count": 112,
     "metadata": {},
     "output_type": "execute_result"
    }
   ],
   "source": [
    "train_predictions = predicted.flatten()\n",
    "\n",
    "dummies = np.zeros((x_train.shape[0], lookback+1))\n",
    "dummies[:, 0] = train_predictions\n",
    "dummies = scaler.inverse_transform(dummies)\n",
    "\n",
    "train_predictions = dc(dummies[:, 0])\n",
    "train_predictions"
   ]
  },
  {
   "cell_type": "code",
   "execution_count": 113,
   "metadata": {},
   "outputs": [
    {
     "name": "stderr",
     "output_type": "stream",
     "text": [
      "/tmp/ipykernel_19028/2743067881.py:2: DeprecationWarning: __array__ implementation doesn't accept a copy keyword, so passing copy=False failed. __array__ must implement 'dtype' and 'copy' keyword arguments.\n",
      "  dummies[:, 0] = y_train.flatten()\n"
     ]
    },
    {
     "data": {
      "text/plain": [
       "array([ 109.91991941,  110.37996404,  111.14000657, ..., 3807.30004669,\n",
       "       3901.06006692, 3871.98000711])"
      ]
     },
     "execution_count": 113,
     "metadata": {},
     "output_type": "execute_result"
    }
   ],
   "source": [
    "dummies = np.zeros((x_train.shape[0], lookback+1))\n",
    "dummies[:, 0] = y_train.flatten()\n",
    "dummies = scaler.inverse_transform(dummies)\n",
    "\n",
    "new_y_train = dc(dummies[:, 0])\n",
    "new_y_train"
   ]
  },
  {
   "cell_type": "code",
   "execution_count": 114,
   "metadata": {},
   "outputs": [
    {
     "data": {
      "image/png": "[encoded data removed]",
      "text/plain": [
       "<Figure size 640x480 with 1 Axes>"
      ]
     },
     "metadata": {},
     "output_type": "display_data"
    }
   ],
   "source": [
    "plt.plot(new_y_train, label='Actual Close')\n",
    "plt.plot(train_predictions, label='Predicted Close')\n",
    "plt.xlabel('Day')\n",
    "plt.ylabel('Close')\n",
    "plt.legend()\n",
    "plt.show()"
   ]
  },
  {
   "cell_type": "code",
   "execution_count": 115,
   "metadata": {},
   "outputs": [
    {
     "data": {
      "text/plain": [
       "array([3889.19660323, 3895.75205978, 3870.77866981, 3836.01071615,\n",
       "       3827.09147529, 3833.74992156, 3839.5900123 , 3820.97376986,\n",
       "       3865.17245901, 3915.2962413 , 3945.07049483, 3973.39894507,\n",
       "       3985.19467599, 3990.40193623, 4005.82024947, 4002.85507882,\n",
       "       4012.76927385, 4028.82911968, 4038.29547096, 4030.42563962,\n",
       "       4023.1551761 , 4049.95627459, 4071.68557839, 4083.03436267,\n",
       "       4070.84066803, 4045.64461215, 4028.55818856, 4025.43306089,\n",
       "       4009.02728446, 4010.81668583, 4019.47446021, 4022.49848213,\n",
       "       4000.43087328, 3971.39800213, 3938.50741273, 3916.91178025,\n",
       "       3914.34762353, 3894.28921116, 3884.54520035, 3877.62443534,\n",
       "       3861.02909684, 3869.30747795, 3873.6638171 , 3868.72372007,\n",
       "       3875.82166685, 3867.33551207, 3885.97036981, 3903.01929366,\n",
       "       3919.21523304, 3945.66600502, 3970.52895916, 3991.98715242,\n",
       "       4009.41035595, 4001.51980107, 3987.62857045, 3996.79411641,\n",
       "       4014.90218357, 4026.66211929, 4033.29733007, 4049.67987102,\n",
       "       4068.82608881, 4072.10686731, 4085.87842173, 4105.67613019,\n",
       "       4136.05585197, 4148.69936404, 4148.88713186, 4161.85378761,\n",
       "       4164.72763115, 4154.78984179, 4147.57150111, 4151.00954525,\n",
       "       4155.61268292, 4162.75862578, 4150.69914072, 4140.36877038,\n",
       "       4113.91351278, 4091.58430288, 4078.48810259, 4057.21462694,\n",
       "       4042.41371369, 4030.31493465, 4015.75732113, 4016.80785207,\n",
       "       4035.30168208, 4048.71689928, 4044.17584252, 4040.89075783,\n",
       "       4020.00340388, 3989.39733799, 3963.27697638, 3958.46274569,\n",
       "       3946.81306638, 3958.55165057, 3954.54393337, 3963.6712619 ,\n",
       "       3988.22264525, 3990.24224835, 3990.75217301, 3999.58147731,\n",
       "       4004.73975463, 4009.5289556 , 4026.30084789, 4042.32418082,\n",
       "       4072.88610827, 4099.57210588, 4112.5488094 , 4119.68596045,\n",
       "       4130.1988056 , 4137.25108883, 4141.8790768 , 4138.07733903,\n",
       "       4147.69162587, 4154.51639872, 4163.28146901, 4170.12938764,\n",
       "       4175.06141057, 4172.91979875, 4173.37158985, 4172.21430129,\n",
       "       4155.51938214, 4137.59504575, 4144.22173386, 4158.16069142,\n",
       "       4168.82694459, 4163.91968225, 4152.06339554, 4139.55929637,\n",
       "       4150.85757263, 4156.86156773, 4153.98081634, 4155.39844997,\n",
       "       4157.14999275, 4158.44472054, 4164.5338526 , 4159.00057789,\n",
       "       4166.52923338, 4183.28120955, 4193.39088766, 4201.06738901,\n",
       "       4195.96634812, 4183.999805  , 4185.94351151, 4199.12816812,\n",
       "       4207.06483511, 4206.22153957, 4214.62112199, 4238.20522741,\n",
       "       4256.32567487, 4270.41247828, 4274.83601194, 4284.34264403,\n",
       "       4294.86643408, 4310.254604  , 4325.80981819, 4338.58000402,\n",
       "       4358.86449137, 4372.03820308, 4376.34582846, 4374.93788376,\n",
       "       4376.17071007, 4369.31633216, 4359.73147095, 4360.99641426,\n",
       "       4362.41566271, 4367.90946401, 4384.13034341, 4396.56697893,\n",
       "       4405.20806684, 4405.5252895 , 4401.27310631, 4401.04703134,\n",
       "       4406.96014789, 4416.08909123, 4429.87482019, 4439.1282842 ,\n",
       "       4450.45912602, 4466.02331145, 4479.84223396, 4483.44866807,\n",
       "       4485.22999533, 4489.10448977, 4495.04882619, 4498.91811732,\n",
       "       4494.99105148, 4499.78079071, 4506.21621222, 4508.64526222,\n",
       "       4497.73427392, 4486.55181623, 4473.99281314, 4473.8822876 ,\n",
       "       4468.90002578, 4457.82342859, 4449.37952831, 4444.39206318,\n",
       "       4446.20658399, 4438.2794265 , 4423.18461578, 4405.23085376,\n",
       "       4392.87836836, 4390.22449936, 4385.82231722, 4390.65960397,\n",
       "       4383.48638858, 4384.69750451, 4393.39941735, 4413.40131098,\n",
       "       4430.68223082, 4442.31163515, 4450.25009638, 4455.40334982,\n",
       "       4452.40552389, 4446.74790795, 4441.82844474, 4443.71419711,\n",
       "       4440.26045332, 4437.73092555, 4443.84930382, 4438.84748473,\n",
       "       4435.79619027, 4431.79789287, 4419.08189327, 4395.02033903,\n",
       "       4374.30720635, 4361.23217816, 4339.26576477, 4321.65793335,\n",
       "       4313.97586984, 4306.71581295, 4303.81433802, 4288.28872888,\n",
       "       4282.89396995, 4281.07245159, 4291.07070704, 4303.51595494,\n",
       "       4317.80030482, 4332.116054  , 4339.97287706, 4339.69315413,\n",
       "       4350.42094993, 4357.19153656, 4348.33262721, 4332.03010963,\n",
       "       4306.57693832, 4286.83090415, 4280.56934506, 4259.34054613,\n",
       "       4229.63070603, 4203.95594537, 4198.18672733, 4203.21779263,\n",
       "       4217.2502304 , 4243.70315548, 4275.0283551 , 4302.55029184,\n",
       "       4327.43343124, 4345.6195481 , 4351.46071539, 4369.09043661,\n",
       "       4379.27260226, 4402.24774065, 4420.9053853 , 4434.84362516,\n",
       "       4446.2022778 , 4463.23792423, 4472.24288518, 4482.95578874,\n",
       "       4488.71101166, 4491.12122208, 4493.67533101, 4494.89721242,\n",
       "       4497.95317191, 4505.77733969, 4506.40155782, 4505.85754248,\n",
       "       4502.5600775 , 4506.8269735 , 4514.16023562, 4522.27148273,\n",
       "       4530.9071879 , 4549.08182158, 4564.93775138, 4577.04496337,\n",
       "       4588.43286221, 4601.22816748, 4599.07543133, 4604.60583525,\n",
       "       4609.14420064, 4615.38351108, 4621.16223862, 4624.96586035,\n",
       "       4624.60754945, 4622.00356048, 4612.68281226, 4603.02079848,\n",
       "       4597.10265805, 4603.76343683, 4607.56095812, 4614.09039811,\n",
       "       4618.82218321, 4623.68656307, 4625.13541658, 4621.91797496,\n",
       "       4624.61562356, 4636.63725003, 4646.46989658, 4655.29525353,\n",
       "       4661.95262325, 4670.96081385, 4678.23988975, 4688.00004877,\n",
       "       4693.70610935, 4686.06585177, 4688.40483063, 4698.56743899,\n",
       "       4703.45227326, 4708.09578146, 4716.09381166, 4722.39968862,\n",
       "       4732.42198696, 4738.1452723 , 4732.01433431, 4733.72712137,\n",
       "       4739.61583618, 4740.17689685, 4736.14432935, 4733.21647901,\n",
       "       4744.88087113, 4755.78217051, 4759.71372196, 4762.47327204,\n",
       "       4763.96787882, 4768.98853749, 4778.00354623, 4782.20638765,\n",
       "       4778.53948745, 4778.81921038, 4785.67287059, 4787.41867178,\n",
       "       4787.00617466, 4792.5995566 , 4796.04791766, 4797.36022906,\n",
       "       4793.98830287, 4794.22621987, 4798.82056574, 4807.56123428,\n",
       "       4814.82613564, 4818.99686006, 4820.12579954, 4819.85809806,\n",
       "       4824.15370199, 4828.18088675, 4829.20073608, 4825.40967407,\n",
       "       4822.99964308, 4814.84551349, 4815.0900692 , 4815.42846396,\n",
       "       4816.06075619, 4811.05660458, 4811.58698364, 4804.00432135,\n",
       "       4791.56158539, 4780.36136467, 4769.12902694, 4759.3424925 ,\n",
       "       4747.3549567 , 4743.06581205, 4749.12785101, 4754.74401987,\n",
       "       4755.35029553, 4762.12931512, 4769.64953765, 4766.18143989,\n",
       "       4760.05552579, 4760.74146597, 4769.68685797, 4783.05955154,\n",
       "       4792.29848215, 4797.79910159, 4805.73702455, 4813.10688929,\n",
       "       4817.76206008, 4822.89988301, 4832.35448197, 4838.31963165,\n",
       "       4842.6846729 , 4845.91593021, 4849.46207766, 4850.86535732,\n",
       "       4847.63140864, 4847.90162206, 4849.03594427, 4845.82585907,\n",
       "       4839.80365237, 4839.45467156, 4840.62039307, 4842.68808196,\n",
       "       4849.67254269, 4854.84463572, 4857.93289163, 4861.69183664,\n",
       "       4865.40072219, 4872.24397577, 4878.60206529, 4882.02118014,\n",
       "       4887.72742014, 4893.40477279, 4896.12287579, 4896.97944875,\n",
       "       4895.73280675, 4896.44314867, 4898.15898595, 4899.4190848 ,\n",
       "       4898.26682013, 4898.41430714, 4901.58689261, 4906.56359226,\n",
       "       4912.24704534, 4916.638462  , 4919.736048  , 4926.13701999,\n",
       "       4927.7647598 , 4929.93113221, 4932.90599179, 4937.29184629,\n",
       "       4935.33001791, 4929.59578767, 4921.88770759, 4921.32018764,\n",
       "       4921.21755678, 4910.6724152 , 4898.64630312, 4896.087888  ,\n",
       "       4896.17221755, 4894.25022142, 4898.71412561, 4896.52227491,\n",
       "       4886.1877778 , 4862.9235864 , 4850.02977704, 4838.48524054,\n",
       "       4842.59657543, 4847.89713645, 4851.32396655, 4862.17233567,\n",
       "       4874.41016876, 4889.27262465, 4901.86374474, 4912.9430333 ,\n",
       "       4920.0462731 , 4926.39234117, 4926.81470663, 4930.88010883,\n",
       "       4932.88517854, 4934.44258392, 4932.8688509 , 4931.37657665,\n",
       "       4934.17649726, 4929.0099664 , 4922.35026417, 4916.94635459,\n",
       "       4905.46192532, 4901.84974962, 4902.62755519, 4907.10976069,\n",
       "       4914.65940885, 4922.04057734, 4927.6129666 , 4932.38135431,\n",
       "       4934.05735934, 4941.23452207, 4946.45864822, 4950.19821538,\n",
       "       4953.51577591, 4955.20254641, 4957.54206355, 4959.35227816,\n",
       "       4961.184562  , 4959.71991913, 4957.79612876, 4956.02377273,\n",
       "       4957.95832858, 4956.60923514, 4958.03763424, 4962.04938849,\n",
       "       4964.8485914 , 4968.25227574, 4973.51013371, 4974.891703  ,\n",
       "       4976.79952458, 4978.29700215, 4980.20123525, 4981.43944429,\n",
       "       4981.71432275, 4978.76386492, 4976.91238265, 4975.86651675,\n",
       "       4976.02835773, 4976.71106826, 4976.23720794, 4969.40471983,\n",
       "       4964.85289759, 4961.59741796, 4963.38305141, 4973.24494418,\n",
       "       4983.52220485, 4991.18812015, 4997.11164332, 5000.15414597,\n",
       "       5002.21842579, 5002.03666869, 4997.14824593, 4993.6168113 ,\n",
       "       4992.9701651 , 4992.89839527, 4994.21285976, 4996.32522537,\n",
       "       4998.76270833, 5002.3965944 , 5004.27588748, 5006.24112494,\n",
       "       5008.77603544, 5010.61477856, 5013.08312255, 5014.85655512,\n",
       "       5016.07825711, 5015.95732494, 5014.39740762, 5014.94357605,\n",
       "       5015.11492652, 5014.34483621, 5014.76486916, 5014.49357919,\n",
       "       5006.61684001, 4998.14405237, 4995.77457133, 4997.58442709,\n",
       "       5001.99414506, 5005.34597569, 5004.30728678, 5000.49810289,\n",
       "       4996.11027472, 4992.28243068, 4993.06705438, 4995.96583793,\n",
       "       4995.04808119, 4993.70275567, 4989.01941521, 4985.07207439,\n",
       "       4983.48685821, 4987.42540722, 4990.85169905, 4995.34467003,\n",
       "       5001.09038344, 5007.40451393, 5013.09962961, 5016.71108761,\n",
       "       5014.92222452, 5014.45733543, 5014.24776752, 5014.57414083,\n",
       "       5014.13437118, 5011.2244633 , 5010.23296305, 5011.84383696,\n",
       "       5013.77193352])"
      ]
     },
     "execution_count": 115,
     "metadata": {},
     "output_type": "execute_result"
    }
   ],
   "source": [
    "test_predictions = model(x_test.to(device)).detach().cpu().numpy().flatten()\n",
    "\n",
    "dummies = np.zeros((x_test.shape[0], lookback+1))\n",
    "dummies[:, 0] = test_predictions\n",
    "dummies = scaler.inverse_transform(dummies)\n",
    "\n",
    "test_predictions = dc(dummies[:, 0])\n",
    "test_predictions"
   ]
  },
  {
   "cell_type": "code",
   "execution_count": 116,
   "metadata": {},
   "outputs": [
    {
     "name": "stderr",
     "output_type": "stream",
     "text": [
      "/tmp/ipykernel_19028/973696869.py:2: DeprecationWarning: __array__ implementation doesn't accept a copy keyword, so passing copy=False failed. __array__ must implement 'dtype' and 'copy' keyword arguments.\n",
      "  dummies[:, 0] = y_test.flatten()\n"
     ]
    },
    {
     "data": {
      "text/plain": [
       "array([3856.10007927, 3759.68995795, 3719.8899073 , 3770.55003453,\n",
       "       3806.80003524, 3828.1101135 , 3748.57007458, 3956.37011678,\n",
       "       3992.92993889, 3957.25001493, 3991.72994728, 3958.79001612,\n",
       "       3946.56007772, 3965.34008994, 3949.93989858, 4003.58004384,\n",
       "       4027.26005171, 4026.12007762, 3963.93995021, 3957.62985677,\n",
       "       4080.11010082, 4076.5700538 , 4071.69993235, 3998.84009493,\n",
       "       3941.25996526, 3933.919885  , 3963.51004891, 3934.37983992,\n",
       "       3990.560099  , 4019.64993746, 3995.32005375, 3895.7499964 ,\n",
       "       3852.36010841, 3817.65993239, 3821.62010207, 3878.43992007,\n",
       "       3822.38987838, 3844.82005946, 3829.24999788, 3783.21996687,\n",
       "       3849.28001631, 3839.49998601, 3824.13989605, 3852.96997257,\n",
       "       3808.10010091, 3895.08011472, 3892.09009376, 3919.25004141,\n",
       "       3969.61012587, 3983.16995929, 3999.09012309, 3990.96999446,\n",
       "       3928.86011177, 3898.85009434, 3972.6101049 , 4019.8100739 ,\n",
       "       4016.94995634, 4016.21996742, 4060.42991546, 4070.56004798,\n",
       "       4017.77001639, 4076.60010742, 4119.20994703, 4179.75973298,\n",
       "       4136.48001168, 4111.08003977, 4163.99997475, 4117.85986676,\n",
       "       4081.50001335, 4090.45993874, 4137.29002396, 4136.12986461,\n",
       "       4147.60011933, 4090.40987928, 4079.09007207, 3997.34010542,\n",
       "       3991.05001782, 4012.3200844 , 3970.04002717, 3982.24000167,\n",
       "       3970.14992473, 3951.38991835, 3981.35005574, 4045.6398574 ,\n",
       "       4048.4199516 , 3986.37008643, 3992.01002905, 3918.3200838 ,\n",
       "       3861.59006779, 3855.76002483, 3919.29005309, 3891.92995732,\n",
       "       3960.28004757, 3916.63986229, 3951.57006063, 4002.87015048,\n",
       "       3936.9700132 , 3948.71999084, 3970.98999063, 3977.53001667,\n",
       "       3971.26998269, 4027.81007777, 4050.8300723 , 4109.31001626,\n",
       "       4124.50979036, 4100.60011903, 4090.37991537, 4105.0200642 ,\n",
       "       4109.10986814, 4108.93995306, 4091.94997018, 4146.22025458,\n",
       "       4137.64017103, 4151.31986007, 4154.87013429, 4154.51998721,\n",
       "       4129.7900764 , 4133.52004434, 4137.0399958 , 4071.62986705,\n",
       "       4055.98996445, 4135.35008537, 4169.47996036, 4167.87007329,\n",
       "       4119.58009995, 4090.74997857, 4061.22001161, 4136.24998937,\n",
       "       4138.12013179, 4119.16993535, 4137.64017103, 4130.62009452,\n",
       "       4124.08006848, 4136.27977385, 4109.89987457, 4158.7700173 ,\n",
       "       4198.04982638, 4191.97998246, 4192.62985829, 4145.58006767,\n",
       "       4115.24026785, 4151.27975867, 4205.45019329, 4205.51998945,\n",
       "       4179.83006741, 4221.02003059, 4282.37013988, 4273.79005634,\n",
       "       4283.85012356, 4267.5200643 , 4293.93019661, 4298.85988702,\n",
       "       4338.93015109, 4369.00978526, 4372.58984396, 4425.83983047,\n",
       "       4409.58988428, 4388.70997646, 4365.68998192, 4381.89013778,\n",
       "       4348.33011527, 4328.81984499, 4378.410198  , 4376.85987989,\n",
       "       4396.43994633, 4450.37991007, 4455.58986168, 4446.81985721,\n",
       "       4411.5898404 , 4398.95018595, 4409.52977705, 4439.25980242,\n",
       "       4472.16017045, 4510.04001922, 4505.41992592, 4522.79001978,\n",
       "       4554.97995617, 4565.72022198, 4534.87013866, 4536.33980541,\n",
       "       4554.64012601, 4567.45992274, 4566.75002938, 4537.41016276,\n",
       "       4582.22997496, 4588.95992192, 4576.72998352, 4513.39014531,\n",
       "       4501.89010611, 4478.02977654, 4518.43996048, 4499.37986648,\n",
       "       4467.70999224, 4468.8300502 , 4464.04982046, 4489.72018522,\n",
       "       4437.85984211, 4404.33005264, 4370.35986553, 4369.7099897 ,\n",
       "       4399.76997687, 4387.54981711, 4436.00979524, 4376.31003326,\n",
       "       4405.7099174 , 4433.31008326, 4497.62984882, 4514.87012898,\n",
       "       4507.66013155, 4515.77003298, 4496.83006374, 4465.48001381,\n",
       "       4451.14013203, 4457.49023714, 4487.45997376, 4461.8998654 ,\n",
       "       4467.43995824, 4505.10010161, 4450.31980283, 4453.52979833,\n",
       "       4443.95023015, 4402.20019313, 4330.00001019, 4320.06006773,\n",
       "       4337.43994022, 4273.52980098, 4274.50972834, 4299.70022205,\n",
       "       4288.04982505, 4288.39010377, 4229.4502049 , 4263.74999496,\n",
       "       4258.189986  , 4308.500011  , 4335.66013807, 4358.24027325,\n",
       "       4376.95022017, 4349.6098611 , 4327.7798104 , 4373.62987855,\n",
       "       4373.20015668, 4314.60008796, 4277.99998504, 4224.16014021,\n",
       "       4217.0400345 , 4247.68019106, 4186.77003085, 4137.23000644,\n",
       "       4117.37012736, 4166.8198115 , 4193.79979629, 4237.85983509,\n",
       "       4317.77976071, 4358.33985389, 4365.98002176, 4378.37987524,\n",
       "       4382.77981457, 4347.3500982 , 4415.24023353, 4411.54982871,\n",
       "       4495.70022714, 4502.87990182, 4508.24021123, 4514.02001531,\n",
       "       4547.3798897 , 4538.189942  , 4556.62007629, 4559.33988382,\n",
       "       4550.43019732, 4554.89015417, 4550.58010656, 4567.79984261,\n",
       "       4594.62991816, 4569.77979288, 4567.18019981, 4549.33983413,\n",
       "       4585.5898797 , 4604.37016106, 4622.43992107, 4643.7001193 ,\n",
       "       4707.08992725, 4719.54988797, 4719.18996226, 4740.56014776,\n",
       "       4768.37006095, 4698.35015583, 4746.74993701, 4754.62990584,\n",
       "       4774.75004027, 4781.58001643, 4783.35003994, 4769.83003878,\n",
       "       4742.83004815, 4704.80997908, 4688.68024736, 4697.24023536,\n",
       "       4763.53995119, 4756.50004826, 4783.45015886, 4780.24025307,\n",
       "       4783.8300007 , 4765.97994609, 4739.20997777, 4780.94000895,\n",
       "       4839.81011166, 4850.43025271, 4864.6001297 , 4868.54980304,\n",
       "       4894.16015028, 4890.97016062, 4927.93018926, 4924.97022192,\n",
       "       4845.64984355, 4906.19003028, 4958.60981924, 4942.81004933,\n",
       "       4954.23006517, 4995.06010264, 4997.91008271, 5026.60994184,\n",
       "       5021.83975988, 4953.16984531, 5000.62011161, 5029.72995591,\n",
       "       5005.56989757, 4975.50982068, 4981.79972886, 5087.02973467,\n",
       "       5088.79975818, 5069.52973742, 5078.1801554 , 5069.75975974,\n",
       "       5096.27010068, 5137.08004259, 5130.95018115, 5078.64988896,\n",
       "       5104.75975424, 5157.3598649 , 5123.68994484, 5117.93992523,\n",
       "       5175.27002675, 5165.30998874, 5150.4800087 , 5117.08981156,\n",
       "       5149.41996827, 5178.50971702, 5224.62004053, 5241.5297309 ,\n",
       "       5234.18014114, 5218.19000176, 5203.57999626, 5248.49014874,\n",
       "       5254.35015561, 5243.77002624, 5205.8100644 , 5211.49028784,\n",
       "       5147.20999568, 5204.33985937, 5202.39005243, 5209.91009554,\n",
       "       5160.64010513, 5199.0601116 , 5123.41022191, 5061.8198631 ,\n",
       "       5051.41018709, 5022.2099128 , 5011.12003819, 4967.22991447,\n",
       "       5010.60006575, 5070.54976617, 5071.62990216, 5048.41989699,\n",
       "       5099.95996722, 5116.16990172, 5035.68990227, 5018.39014286,\n",
       "       5064.20010962, 5127.78997597, 5180.74032343, 5187.70020299,\n",
       "       5187.66988024, 5214.08010226, 5222.68010194, 5221.42000309,\n",
       "       5246.68011355, 5308.14989904, 5297.10003611, 5303.27008866,\n",
       "       5308.12980348, 5321.4100934 , 5307.00983524, 5267.83983401,\n",
       "       5304.72019814, 5306.04004537, 5266.95024693, 5235.47989282,\n",
       "       5277.50974247, 5283.39989267, 5291.33978931, 5354.02984138,\n",
       "       5352.9599326 , 5346.9902973 , 5360.79002139, 5375.31982409,\n",
       "       5421.02985136, 5433.7402888 , 5431.60011238, 5473.23002463,\n",
       "       5487.02974871, 5473.1699174 , 5464.62015661, 5447.87015411,\n",
       "       5469.29972915, 5477.89990825, 5482.87014861, 5460.47993436,\n",
       "       5475.08976043, 5509.00979837, 5537.0199494 , 5567.19001356,\n",
       "       5572.85014145, 5576.97995707, 5633.91012119, 5584.54001186,\n",
       "       5615.3500835 , 5631.22018784, 5667.20019942, 5588.27006951,\n",
       "       5544.58987255, 5505.0000178 , 5564.4101885 , 5555.74021324,\n",
       "       5427.12992832, 5399.22025506, 5459.10015932, 5463.54002062,\n",
       "       5436.43991107, 5522.29977721, 5446.68021028, 5346.56003716,\n",
       "       5186.33011688, 5240.02974139, 5199.50006067, 5319.31010808,\n",
       "       5344.16023336, 5344.39007625, 5434.43017632, 5455.20987552,\n",
       "       5543.22014528, 5554.24991266, 5608.25007334, 5597.12018705,\n",
       "       5620.85016466, 5570.64016886, 5634.60987706, 5616.83984581,\n",
       "       5625.7997712 , 5592.18009002, 5591.95993605, 5648.39991221,\n",
       "       5528.93023324, 5520.0698885 , 5503.41013657, 5408.41989169,\n",
       "       5471.04983653, 5495.51994054, 5554.12987761, 5595.75978987,\n",
       "       5626.02010459, 5633.089792  , 5634.58009258, 5618.25981196,\n",
       "       5713.64012589, 5702.54989243, 5718.5698163 , 5732.9302422 ,\n",
       "       5722.25968284, 5745.37010737, 5738.16997829, 5762.48003557,\n",
       "       5708.75008831, 5709.54009475, 5699.93998245, 5751.06988808,\n",
       "       5695.9398908 , 5751.1298159 , 5792.04005615, 5780.04982899,\n",
       "       5815.02972793, 5859.85016812, 5815.25975025, 5842.47020591,\n",
       "       5841.47027272, 5864.66987126, 5853.97993405, 5851.20010899,\n",
       "       5797.41992284, 5809.85978801, 5808.12008725, 5823.52009919,\n",
       "       5832.91997365, 5813.66986902, 5705.45011138, 5728.7998883 ,\n",
       "       5712.6898933 , 5782.75967846, 5929.04005513, 5973.10009393,\n",
       "       5995.54000879, 6001.35013563, 5983.99026898, 5985.37991237,\n",
       "       5949.16987849, 5870.6201287 , 5893.62002768, 5916.9800318 ,\n",
       "       5917.1099352 , 5948.71001328, 5969.33989295, 5987.37008985,\n",
       "       6021.62995794, 5998.74022565, 6032.37982297, 6047.14987519,\n",
       "       6049.87982022, 6086.49015035, 6075.10978734, 6090.27008803,\n",
       "       6052.85001476, 6034.91006843, 6084.1899272 , 6051.25008575,\n",
       "       6051.0898596 , 6074.08006966, 6050.60989884, 5872.16012989,\n",
       "       5867.08008168, 5930.85009032, 5974.0698838 , 6040.03999668,\n",
       "       6037.58977457, 5970.83988246, 5906.93997043, 5881.62980052,\n",
       "       5868.54974844, 5942.47016457, 5975.37986268, 5909.02972854,\n",
       "       5918.249999  , 5827.04005065, 5836.22013   , 5842.91015499,\n",
       "       5949.91018432, 5937.33987748, 5996.66015646, 6049.24017158,\n",
       "       6086.3701153 , 6118.70996094, 6101.24028644, 6012.27978409,\n",
       "       6067.70026977, 6039.31009747, 6071.16998235, 6040.52982579,\n",
       "       5994.56986008, 6037.87990412, 6061.47997834, 6083.56983584,\n",
       "       6025.99015473])"
      ]
     },
     "execution_count": 116,
     "metadata": {},
     "output_type": "execute_result"
    }
   ],
   "source": [
    "dummies = np.zeros((x_test.shape[0], lookback+1))\n",
    "dummies[:, 0] = y_test.flatten()\n",
    "dummies = scaler.inverse_transform(dummies)\n",
    "\n",
    "new_y_test = dc(dummies[:, 0])\n",
    "new_y_test"
   ]
  },
  {
   "cell_type": "code",
   "execution_count": 117,
   "metadata": {},
   "outputs": [
    {
     "data": {
      "image/png": "[encoded data removed]",
      "text/plain": [
       "<Figure size 640x480 with 1 Axes>"
      ]
     },
     "metadata": {},
     "output_type": "display_data"
    }
   ],
   "source": [
    "plt.plot(new_y_test, label='Actual Close')\n",
    "plt.plot(test_predictions, label='Predicted Close')\n",
    "plt.xlabel('Day')\n",
    "plt.ylabel('Close')\n",
    "plt.legend()\n",
    "plt.show()"
   ]
  }
 ],
 "metadata": {
  "kernelspec": {
   "display_name": "Python 3",
   "language": "python",
   "name": "python3"
  },
  "language_info": {
   "codemirror_mode": {
    "name": "ipython",
    "version": 3
   },
   "file_extension": ".py",
   "mimetype": "text/x-python",
   "name": "python",
   "nbconvert_exporter": "python",
   "pygments_lexer": "ipython3",
   "version": "3.12.1"
  }
 },
 "nbformat": 4,
 "nbformat_minor": 2
}
